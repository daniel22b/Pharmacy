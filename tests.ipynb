{
 "cells": [
  {
   "cell_type": "markdown",
   "id": "64305fcc",
   "metadata": {},
   "source": [
    "# Pharmacy \n",
    "\n",
    "Project 1\n",
    "Twoim zadaniem jest utworzenie pakietu obsługi\n",
    "nowych i aktualnych klientów nowo-utworzonej apteki\n",
    "oraz jej dostępnych zasobów tj. leków \n",
    "Administratorem jest osoba, która świetnie zna pythona\n",
    "Klienci dostaja tzw. kartę stałego klienta (ID konta)\n",
    "\n",
    "Zasoby:\n",
    "Pakiet Pharmacy powinien zawierać 3 pliki zawierające następujące dane:\n",
    "drugs.xlsx - dane leków\n",
    "address.csv - baza adresów aktualnych uzytkowników\n",
    "customer.csv - dane osobowe aktualnych uzytkowników\n",
    "folder DATABASE\n",
    "\n",
    "Specyfikacja oprogramowania:\n",
    "Utwórz następujące moduły:\n",
    "1. Moduł main - główny moduł, który administruje zasobami apteki online\n",
    "musi zawierać:  def __main__() (uruchamia program)\n",
    "2. Moduł obsługi dodawania/usuwania nowych obiektów do bazy zawierający 2 funkcje:\n",
    "funkcja 1: dodanie nowego leku do bazy (book.csv)\n",
    "funkcja 2: usuwanie leków z bazy opcje: wględem ID lub nazwy (drugs.xlsx)\n",
    "\n",
    "3. Moduł obsługi klienta zawierający funkcje tj.:\n",
    "1: rejestracja nowego klienta lub usuwanie danych klienta z bazy tj.\n",
    "dodawanie/usuwanie (przez administratora) danych\n",
    "nowego/bieżącego klienta do/z bazy tj. do/z pliku customer.csv i address.csv\n",
    "Nowy klient podaje swoje dane (imie, nazwisko), nadawany jest w/w klientowi losowy numer ID złożony z 4 cyfr\n",
    "ponadto po rejestracji w folderze DATABASE tworzony jest plik tekstowy (nazwa pliku to ID klienta)\n",
    "do którego będą zapisywane dane zakupionego przez klienta e-booka oraz\n",
    "data zakupu a potem wygaśnięcia dostepu do e-booka\n",
    "Usuwanie danych klienta opcje: względem ID lub NAME\n",
    "Zakup leków przez użytkownika zawiera funkcje: zakup leku przez klienta (z nr recepty lub bez numeru)\n",
    "\n",
    "Jeśli skończyłeś zadanie, przyjmij rolę programisty\n",
    "który dostał zadanie aktualizacji utworzonego pakietu\n",
    "Nie modyfikując i nie zmieniając nazw funkcji \"udekoruj\" funkcje\n",
    "dodając nowe funkcjonalnosci: \n",
    "np. funkcja: \"zakup leku przez klienta\" i nadpisz jej zawartość\n",
    "tak aby klient miał możliwość zakupu dowolnej liczby leków równocześnie (bez recepty) usun wszystkie '' tylko to\n"
   ]
  },
  {
   "cell_type": "markdown",
   "id": "fa166cc0",
   "metadata": {},
   "source": [
    "pip install customtkinter\n"
   ]
  },
  {
   "cell_type": "code",
   "execution_count": 1,
   "id": "b55939c0",
   "metadata": {},
   "outputs": [
    {
     "data": {
      "text/html": [
       "<div>\n",
       "<style scoped>\n",
       "    .dataframe tbody tr th:only-of-type {\n",
       "        vertical-align: middle;\n",
       "    }\n",
       "\n",
       "    .dataframe tbody tr th {\n",
       "        vertical-align: top;\n",
       "    }\n",
       "\n",
       "    .dataframe thead th {\n",
       "        text-align: right;\n",
       "    }\n",
       "</style>\n",
       "<table border=\"1\" class=\"dataframe\">\n",
       "  <thead>\n",
       "    <tr style=\"text-align: right;\">\n",
       "      <th></th>\n",
       "      <th>ID,DRUG,ON_RECEPT,NO_PACKAGES_AVAILABLE,DATE</th>\n",
       "    </tr>\n",
       "  </thead>\n",
       "  <tbody>\n",
       "    <tr>\n",
       "      <th>0</th>\n",
       "      <td>1,POLOPIRYNA,NO,1200,2024-03-25 00:00:00</td>\n",
       "    </tr>\n",
       "    <tr>\n",
       "      <th>1</th>\n",
       "      <td>3,AMOTAX,YES,336,2015-02-14 00:00:00</td>\n",
       "    </tr>\n",
       "    <tr>\n",
       "      <th>2</th>\n",
       "      <td>5,GSGDF,YES,455,2025-05-24 19:55:06</td>\n",
       "    </tr>\n",
       "    <tr>\n",
       "      <th>3</th>\n",
       "      <td>6,JHV,YES,4445,2025-05-25 09:19:09</td>\n",
       "    </tr>\n",
       "    <tr>\n",
       "      <th>4</th>\n",
       "      <td>7,RREWRW,NO,4432,2025-05-25 09:19:19</td>\n",
       "    </tr>\n",
       "    <tr>\n",
       "      <th>5</th>\n",
       "      <td>8,JGHJGH,YES,766,2025-05-25 09:19:25</td>\n",
       "    </tr>\n",
       "  </tbody>\n",
       "</table>\n",
       "</div>"
      ],
      "text/plain": [
       "  ID,DRUG,ON_RECEPT,NO_PACKAGES_AVAILABLE,DATE\n",
       "0     1,POLOPIRYNA,NO,1200,2024-03-25 00:00:00\n",
       "1         3,AMOTAX,YES,336,2015-02-14 00:00:00\n",
       "2          5,GSGDF,YES,455,2025-05-24 19:55:06\n",
       "3           6,JHV,YES,4445,2025-05-25 09:19:09\n",
       "4         7,RREWRW,NO,4432,2025-05-25 09:19:19\n",
       "5         8,JGHJGH,YES,766,2025-05-25 09:19:25"
      ]
     },
     "execution_count": 1,
     "metadata": {},
     "output_type": "execute_result"
    }
   ],
   "source": [
    "import pandas as pd\n",
    "\n",
    "df = pd.read_excel('drugs.xlsx')\n",
    "df\n",
    "\n"
   ]
  }
 ],
 "metadata": {
  "kernelspec": {
   "display_name": "base",
   "language": "python",
   "name": "python3"
  },
  "language_info": {
   "codemirror_mode": {
    "name": "ipython",
    "version": 3
   },
   "file_extension": ".py",
   "mimetype": "text/x-python",
   "name": "python",
   "nbconvert_exporter": "python",
   "pygments_lexer": "ipython3",
   "version": "3.13.2"
  }
 },
 "nbformat": 4,
 "nbformat_minor": 5
}
